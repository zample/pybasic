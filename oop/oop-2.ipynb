{
 "cells": [
  {
   "cell_type": "code",
   "execution_count": 6,
   "metadata": {
    "collapsed": true
   },
   "outputs": [
    {
     "name": "stdout",
     "output_type": "stream",
     "text": [
      "DaNa\nDaNa\nsec\nSleep.......\n9627\nattention\n"
     ]
    }
   ],
   "source": [
    "# 继承的语法\n",
    "# 在python中，任何类都有一个共同的父亲叫object\n",
    "class Person():\n",
    "    name = \"NoName\"\n",
    "    age = 0\n",
    "    __score = 0 # 考试成绩是秘密，只有自己知道\n",
    "    _petname = \"sec\"# 小名，是保护的，子类可以用\n",
    "    def sleep(self):\n",
    "        print(\"Sleep.......\")\n",
    "        \n",
    "# 父类写在括号内      \n",
    "class Teacher(Person):\n",
    "    teacher_id = \"9627\"\n",
    "    name = \"DaNa\"\n",
    "    def make_test(self):\n",
    "        print(\"attention\")\n",
    "\n",
    "\n",
    "t= Teacher()\n",
    "print(t.name)\n",
    "print(Teacher.name)\n",
    "\n",
    "# 受保护不能外部访问，为啥这里可以\n",
    "print(t._petname)\n",
    "\n",
    "# 私有访问问题\n",
    "# 公开访问私有课，报错\n",
    "# print(t.__score)\n",
    "\n",
    "t.sleep()\n",
    "print(t.teacher_id)\n",
    "t.make_test()\n",
    "\n"
   ]
  },
  {
   "cell_type": "code",
   "execution_count": 8,
   "metadata": {},
   "outputs": [
    {
     "name": "stdout",
     "output_type": "stream",
     "text": [
      "make some money\nattention\n"
     ]
    }
   ],
   "source": [
    "# 子类扩充父类功能的案例\n",
    "# 人有工作的函数，老师也有工作的函数，但老师的工作需要讲课\n",
    "class Person():\n",
    "    name = \"NoName\"\n",
    "    age = 0\n",
    "    __score = 0 # 考试成绩是秘密，只有自己知道\n",
    "    _petname = \"sec\"# 小名，是保护的，子类可以用\n",
    "    def sleep(self):\n",
    "        print(\"Sleep.......\")\n",
    "    def work(self):\n",
    "        print(\"make some money\")\n",
    "        \n",
    "# 父类写在括号内      \n",
    "class Teacher(Person):\n",
    "    teacher_id = \"9627\"\n",
    "    name = \"DaNa\"\n",
    "    def make_test(self):\n",
    "        print(\"attention\")\n",
    "        \n",
    "    def work(self):\n",
    "        # 扩充父类的功能只需要调用父类相应的函数\n",
    "        # Person.work(self)\n",
    "        # 扩充父类的另一种方法\n",
    "        # super代表得到父类\n",
    "        super().work()\n",
    "        self.make_test()\n",
    "\n",
    "t= Teacher()\n",
    "t.work()\n"
   ]
  },
  {
   "cell_type": "code",
   "execution_count": 10,
   "metadata": {},
   "outputs": [
    {
     "name": "stdout",
     "output_type": "stream",
     "text": [
      "I am  init in dog\n"
     ]
    }
   ],
   "source": [
    "# 构造函数的概念\n",
    "\n",
    "class Dog():\n",
    "    # __int__就是构造函数\n",
    "    # 每次实例化的时候，第一个被自动调用\n",
    "    # 因为主要工作是进行初始化，所以得名\n",
    "    def __init__(self):\n",
    "        print(\"I am  init in dog\")\n",
    "\n",
    "# 实例化的时候，括号内的参数需要跟构造函数参数匹配        \n",
    "kaka = Dog()        \n"
   ]
  },
  {
   "cell_type": "code",
   "execution_count": 11,
   "metadata": {},
   "outputs": [
    {
     "name": "stdout",
     "output_type": "stream",
     "text": [
      "I am  init in dog\n"
     ]
    }
   ],
   "source": [
    "# 继承中的构造函数 -1\n",
    "\n",
    "class Animel():\n",
    "    pass\n",
    "\n",
    "class PaxingAni(Animel):\n",
    "    pass\n",
    "\n",
    "\n",
    "class Dog(PaxingAni):\n",
    "    # __int__就是构造函数\n",
    "    # 每次实例化的时候，第一个被自动调用\n",
    "    # 因为主要工作是进行初始化，所以得名\n",
    "    def __init__(self):\n",
    "        print(\"I am  init in dog\")\n",
    "\n",
    "# 实例化的时候，自动调用了Dog的构造函数        \n",
    "kaka = Dog()\n"
   ]
  },
  {
   "cell_type": "code",
   "execution_count": 15,
   "metadata": {},
   "outputs": [
    {
     "name": "stdout",
     "output_type": "stream",
     "text": [
      "I am  init in dog\nPaxing Dongwu\n"
     ]
    }
   ],
   "source": [
    "# 继承中的构造函数 -2\n",
    "\n",
    "class Animel():\n",
    "    def __init__(self):\n",
    "        print(\"Animel\")\n",
    "\n",
    "class PaxingAni(Animel):\n",
    "    def __init__(self):\n",
    "        print(\"Paxing Dongwu\")\n",
    "    \n",
    "\n",
    "\n",
    "class Dog(PaxingAni):\n",
    "    # __int__就是构造函数\n",
    "    # 每次实例化的时候，第一个被自动调用\n",
    "    # 因为主要工作是进行初始化，所以得名\n",
    "    def __init__(self):\n",
    "        print(\"I am  init in dog\")\n",
    "\n",
    "# 实例化的时候，自动调用了Dog的构造函数     \n",
    "# 因为找到了构造函数，则不再查找父类的构造函数\n",
    "kaka = Dog()\n",
    "\n",
    "# 猫没有写构造函数\n",
    "class Cat(PaxingAni):\n",
    "    pass\n",
    "\n",
    "# 此时应该自动调用构造函数，因为Cat没有构造函数，所以查找父类构造函数\n",
    "# 在PaxingAni中查找到了构造函数，则停止向上查找\n",
    "c = Cat()\n"
   ]
  },
  {
   "cell_type": "code",
   "execution_count": 17,
   "metadata": {},
   "outputs": [
    {
     "ename": "NameError",
     "evalue": "name 'name' is not defined",
     "traceback": [
      "\u001b[1;31m---------------------------------------------------------------------------\u001b[0m",
      "\u001b[1;31mNameError\u001b[0m                                 Traceback (most recent call last)",
      "\u001b[1;32m<ipython-input-17-3b7419040d47>\u001b[0m in \u001b[0;36m<module>\u001b[1;34m()\u001b[0m\n\u001b[0;32m     22\u001b[0m \u001b[1;33m\u001b[0m\u001b[0m\n\u001b[0;32m     23\u001b[0m \u001b[1;31m# 因为PaxingAni的构造函数需要两个参数，实例化的时候给了一个，报错\u001b[0m\u001b[1;33m\u001b[0m\u001b[1;33m\u001b[0m\u001b[0m\n\u001b[1;32m---> 24\u001b[1;33m \u001b[0mc\u001b[0m \u001b[1;33m=\u001b[0m \u001b[0mCat\u001b[0m\u001b[1;33m(\u001b[0m\u001b[1;33m)\u001b[0m\u001b[1;33m\u001b[0m\u001b[0m\n\u001b[0m",
      "\u001b[1;32m<ipython-input-17-3b7419040d47>\u001b[0m in \u001b[0;36m__init__\u001b[1;34m(self)\u001b[0m\n\u001b[0;32m      7\u001b[0m \u001b[1;32mclass\u001b[0m \u001b[0mPaxingAni\u001b[0m\u001b[1;33m(\u001b[0m\u001b[0mAnimel\u001b[0m\u001b[1;33m)\u001b[0m\u001b[1;33m:\u001b[0m\u001b[1;33m\u001b[0m\u001b[0m\n\u001b[0;32m      8\u001b[0m     \u001b[1;32mdef\u001b[0m \u001b[0m__init__\u001b[0m\u001b[1;33m(\u001b[0m\u001b[0mself\u001b[0m\u001b[1;33m)\u001b[0m\u001b[1;33m:\u001b[0m\u001b[1;33m\u001b[0m\u001b[0m\n\u001b[1;32m----> 9\u001b[1;33m         \u001b[0mprint\u001b[0m\u001b[1;33m(\u001b[0m\u001b[1;34m\"Paxing Dongwu {0}\"\u001b[0m\u001b[1;33m.\u001b[0m\u001b[0mformat\u001b[0m\u001b[1;33m(\u001b[0m\u001b[0mname\u001b[0m\u001b[1;33m)\u001b[0m\u001b[1;33m)\u001b[0m\u001b[1;33m\u001b[0m\u001b[0m\n\u001b[0m\u001b[0;32m     10\u001b[0m \u001b[1;33m\u001b[0m\u001b[0m\n\u001b[0;32m     11\u001b[0m \u001b[1;33m\u001b[0m\u001b[0m\n",
      "\u001b[1;31mNameError\u001b[0m: name 'name' is not defined"
     ],
     "output_type": "error"
    }
   ],
   "source": [
    "# 继承中的构造函数 -3\n",
    "\n",
    "class Animel():\n",
    "    def __init__(self):\n",
    "        print(\"Animel\")\n",
    "\n",
    "class PaxingAni(Animel):\n",
    "    def __init__(self):\n",
    "        print(\"Paxing Dongwu {0}\".format(name))\n",
    "    \n",
    "\n",
    "\n",
    "class Dog(PaxingAni):\n",
    "    # __int__就是构造函数\n",
    "    # 每次实例化的时候，第一个被自动调用\n",
    "    # 因为主要工作是进行初始化，所以得名\n",
    "    def __init__(self):\n",
    "        print(\"I am  init in dog\")\n",
    "\n",
    "class Cat(PaxingAni):\n",
    "    pass\n",
    "\n",
    "# 因为PaxingAni的构造函数需要两个参数，实例化的时候给了一个，报错\n",
    "c = Cat()"
   ]
  },
  {
   "cell_type": "code",
   "execution_count": 18,
   "metadata": {},
   "outputs": [
    {
     "name": "stdout",
     "output_type": "stream",
     "text": [
      "Animel\nAnimel\n"
     ]
    }
   ],
   "source": [
    "# 继承中的构造函数 -4\n",
    "\n",
    "class Animel():\n",
    "    def __init__(self):\n",
    "        print(\"Animel\")\n",
    "\n",
    "class PaxingAni(Animel):\n",
    "    pass\n",
    "# 因为找到了构造函数，则不再查找父类的构造函数\n",
    "\n",
    "class Dog(PaxingAni):\n",
    "    pass\n",
    "\n",
    "d = Dog()\n",
    "\n",
    "\n",
    "class Cat(PaxingAni):\n",
    "    pass\n",
    "    \n",
    "# 因为PaxingAni的构造函数需要两个参数，实例化的时候给了一个，报错\n",
    "c = Cat()"
   ]
  },
  {
   "cell_type": "code",
   "execution_count": 21,
   "metadata": {},
   "outputs": [
    {
     "name": "stdout",
     "output_type": "stream",
     "text": [
      "<class 'type'>\nHelp on class super in module builtins:\n\nclass super(object)\n |  super() -> same as super(__class__, <first argument>)\n |  super(type) -> unbound super object\n |  super(type, obj) -> bound super object; requires isinstance(obj, type)\n |  super(type, type2) -> bound super object; requires issubclass(type2, type)\n |  Typical use to call a cooperative superclass method:\n |  class C(B):\n |      def meth(self, arg):\n |          super().meth(arg)\n |  This works for class methods too:\n |  class C(B):\n |      @classmethod\n |      def cmeth(cls, arg):\n |          super().cmeth(arg)\n |  \n |  Methods defined here:\n |  \n |  __get__(self, instance, owner, /)\n |      Return an attribute of instance, which is of type owner.\n |  \n |  __getattribute__(self, name, /)\n |      Return getattr(self, name).\n |  \n |  __init__(self, /, *args, **kwargs)\n |      Initialize self.  See help(type(self)) for accurate signature.\n |  \n |  __new__(*args, **kwargs) from builtins.type\n |      Create and return a new object.  See help(type) for accurate signature.\n |  \n |  __repr__(self, /)\n |      Return repr(self).\n |  \n |  ----------------------------------------------------------------------\n |  Data descriptors defined here:\n |  \n |  __self__\n |      the instance invoking super(); may be None\n |  \n |  __self_class__\n |      the type of the instance invoking super(); may be None\n |  \n |  __thisclass__\n |      the class invoking super()\n\n"
     ]
    }
   ],
   "source": [
    "print(type(super))\n",
    "help(super)"
   ]
  },
  {
   "cell_type": "code",
   "execution_count": null,
   "metadata": {},
   "outputs": [],
   "source": []
  }
 ],
 "metadata": {
  "kernelspec": {
   "display_name": "Python 2",
   "language": "python",
   "name": "python2"
  },
  "language_info": {
   "codemirror_mode": {
    "name": "ipython",
    "version": 2
   },
   "file_extension": ".py",
   "mimetype": "text/x-python",
   "name": "python",
   "nbconvert_exporter": "python",
   "pygments_lexer": "ipython2",
   "version": "2.7.6"
  }
 },
 "nbformat": 4,
 "nbformat_minor": 0
}
