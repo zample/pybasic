{
 "cells": [
  {
   "cell_type": "code",
   "execution_count": 6,
   "metadata": {
    "collapsed": true
   },
   "outputs": [],
   "source": [
    "# 属性案例\n",
    "# 创建Student类，描述学生类\n",
    "# 学生具有Student.name属性\n",
    "# 但name格式并不统一\n",
    "# 可以用增加一个函数，然后自动调用\n",
    "class Student():\n",
    "    def __init__(self,name,age):\n",
    "        self.name = name\n",
    "        self.age = age\n",
    "        # 如果不想修改代码\n",
    "        self.setName(name)\n",
    "    # 介绍下自己\n",
    "    def intro(self):\n",
    "            print(\"hi, my name is {0}\".format(self.name))\n",
    "    def setName(self,name):       \n",
    "        self.name = name.upper()\n",
    "s1 = Student(\"Liu Ying\", 19.8)\n",
    "s2 = Student(\"michi stangle\", 24.0)\n",
    "\n",
    "s1.intro()\n",
    "s2.intro()\n",
    "\n"
   ]
  },
  {
   "cell_type": "code",
   "execution_count": 15,
   "metadata": {},
   "outputs": [],
   "source": [
    "# property 案例\n",
    "# 定义一个Person类，具有name,age属性\n",
    "# 对于任意输入的姓名，我们希望内部统一用整数保存\n",
    "# x = property(fget,fset,fdel,doc)\n",
    "\n",
    "class Person:\n",
    "    '''\n",
    "    这是一个人，一个高尚的人，一个脱离了低级趣味的人\n",
    "    他还他妈的有属性\n",
    "    '''\n",
    "    # 函数的名称可以任意\n",
    "    def fget(self):\n",
    "        return self._name * 2\n",
    "    \n",
    "    def fset(self,name):\n",
    "        # 所有输入的姓名以大写形式保存\n",
    "        self._name = name.upper()\n",
    "        \n",
    "    def fdel(self):\n",
    "        self._name = \"NoName\"\n",
    "        \n",
    "    name = property(fget, fset, fdel,\"对name进行下下操作啦\")\n",
    "    \n",
    "# 作业：\n",
    "# 1.在用户输入年龄的时候，可以输入整数，小数，浮点数\n",
    "# 2.但内部为了数据清洁，我们需要统一保存整数，直接舍去小数\n",
    "    \n",
    "    "
   ]
  },
  {
   "cell_type": "code",
   "execution_count": 12,
   "metadata": {},
   "outputs": [
    {
     "name": "stdout",
     "output_type": "stream",
     "text": [
      "TULINGTULING\n"
     ]
    }
   ],
   "source": [
    "p1 = Person()\n",
    "p1.name = \"TuLing\"\n",
    "print(p1.name)"
   ]
  },
  {
   "cell_type": "code",
   "execution_count": 18,
   "metadata": {},
   "outputs": [
    {
     "name": "stdout",
     "output_type": "stream",
     "text": [
      "{'__module__': '__main__', '__doc__': '\\n    这是一个人，一个高尚的人，一个脱离了低级趣味的人\\n    他还他妈的有属性\\n    ', 'fget': <function Person.fget at 0x000001DF2A33E840>, 'fset': <function Person.fset at 0x000001DF2A33EB70>, 'fdel': <function Person.fdel at 0x000001DF2A33EE18>, 'name': <property object at 0x000001DF2A2AD548>, '__dict__': <attribute '__dict__' of 'Person' objects>, '__weakref__': <attribute '__weakref__' of 'Person' objects>}\n\n    这是一个人，一个高尚的人，一个脱离了低级趣味的人\n    他还他妈的有属性\n    \nPerson\n(<class 'object'>,)\n"
     ]
    }
   ],
   "source": [
    "# 类的内置属性举例\n",
    "print(Person.__dict__)\n",
    "print(Person.__doc__)\n",
    "print(Person.__name__)\n",
    "print(Person.__bases__)"
   ]
  },
  {
   "cell_type": "code",
   "execution_count": null,
   "metadata": {},
   "outputs": [],
   "source": []
  }
 ],
 "metadata": {
  "kernelspec": {
   "display_name": "Python 2",
   "language": "python",
   "name": "python2"
  },
  "language_info": {
   "codemirror_mode": {
    "name": "ipython",
    "version": 2
   },
   "file_extension": ".py",
   "mimetype": "text/x-python",
   "name": "python",
   "nbconvert_exporter": "python",
   "pygments_lexer": "ipython2",
   "version": "2.7.6"
  }
 },
 "nbformat": 4,
 "nbformat_minor": 0
}
