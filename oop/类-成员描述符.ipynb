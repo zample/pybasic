{
 "cells": [
  {
   "cell_type": "code",
   "execution_count": 1,
   "metadata": {
    "collapsed": true
   },
   "outputs": [
    {
     "name": "stdout",
     "output_type": "stream",
     "text": [
      "刘大拿\n"
     ]
    },
    {
     "ename": "AttributeError",
     "evalue": "'A' object has no attribute 'name'",
     "traceback": [
      "\u001b[0;31m---------------------------------------------------------------------------\u001b[0m",
      "\u001b[0;31mAttributeError\u001b[0m                            Traceback (most recent call last)",
      "\u001b[0;32m<ipython-input-1-00988670d1b9>\u001b[0m in \u001b[0;36m<module>\u001b[0;34m()\u001b[0m\n\u001b[1;32m     14\u001b[0m \u001b[0mprint\u001b[0m\u001b[0;34m(\u001b[0m\u001b[0ma\u001b[0m\u001b[0;34m.\u001b[0m\u001b[0mname\u001b[0m\u001b[0;34m)\u001b[0m\u001b[0;34m\u001b[0m\u001b[0m\n\u001b[1;32m     15\u001b[0m \u001b[0;32mdel\u001b[0m \u001b[0ma\u001b[0m\u001b[0;34m.\u001b[0m\u001b[0mname\u001b[0m\u001b[0;34m\u001b[0m\u001b[0m\n\u001b[0;32m---> 16\u001b[0;31m \u001b[0mprint\u001b[0m\u001b[0;34m(\u001b[0m\u001b[0ma\u001b[0m\u001b[0;34m.\u001b[0m\u001b[0mname\u001b[0m\u001b[0;34m)\u001b[0m\u001b[0;34m\u001b[0m\u001b[0m\n\u001b[0m\u001b[1;32m     17\u001b[0m \u001b[0;34m\u001b[0m\u001b[0m\n",
      "\u001b[0;31mAttributeError\u001b[0m: 'A' object has no attribute 'name'"
     ],
     "output_type": "error"
    }
   ],
   "source": [
    "# 成员的三种用法\n",
    "\n",
    "class A():\n",
    "    def __init__(self):\n",
    "        self.name = \"haha\"\n",
    "        self.age = 18\n",
    "        \n",
    "a = A()\n",
    "# 属性的三种用法\n",
    "# 1.赋值\n",
    "# 2.读取\n",
    "# 3.删除\n",
    "a.name = \"刘大拿\"\n",
    "print(a.name)\n",
    "del a.name\n",
    "print(a.name)\n",
    "        "
   ]
  },
  {
   "cell_type": "code",
   "execution_count": 2,
   "metadata": {},
   "outputs": [
    {
     "ename": "SyntaxError",
     "evalue": "invalid syntax (<ipython-input-2-255378c3fae5>, line 18)",
     "traceback": [
      "\u001b[0;36m  File \u001b[0;32m\"<ipython-input-2-255378c3fae5>\"\u001b[0;36m, line \u001b[0;32m18\u001b[0m\n\u001b[0;31m    del fdel(self):\u001b[0m\n\u001b[0m                  ^\u001b[0m\n\u001b[0;31mSyntaxError\u001b[0m\u001b[0;31m:\u001b[0m invalid syntax\n"
     ],
     "output_type": "error"
    }
   ],
   "source": [
    "# 类属性 property\n",
    "# 应用场景\n",
    "# 对变量除了普通的三种操作，还想增加一些附加的操作，那么可以通过property完成\n",
    "class A():\n",
    "    def __init__(self):\n",
    "        self.name = \"haha\"\n",
    "        self.age = 18\n",
    "    # 此功能，是对类变量进行读取操作的时候应该执行的函数功能\n",
    "    def fget(self):\n",
    "        print(\"我被读取了\")\n",
    "        return self.name\n",
    "    # 模拟的是对变量进行写操作的时候执行的功能\n",
    "    def fset(self,name):\n",
    "        print(\"我被写入了，但是还可以做好多事情\")\n",
    "        self.name = \"图灵学院\" + name\n",
    "        \n",
    "    # fdel模拟的是删除变量的时候进行的操作\n",
    "    del fdel(self):\n",
    "        pass\n",
    "    \n",
    "    # property的四个参数顺序是固定的\n",
    "    # 第一个参数代表读取的时候需要调用的函数\n",
    "    # 第二个参数代表写入的时候需要调用的参数\n",
    "    # 第三个是删除\n",
    "    name2 = property(fget,fset,fdel,\"这是一个property的例子\")\n",
    "    \n",
    "a = A()\n",
    "print(a.name)\n",
    "print(a.name2)"
   ]
  },
  {
   "cell_type": "code",
   "execution_count": 5,
   "metadata": {},
   "outputs": [
    {
     "name": "stdout",
     "output_type": "stream",
     "text": [
      "闻下对方的味道\nKiss me\n"
     ]
    }
   ],
   "source": [
    "# 抽象\n",
    "\n",
    "class Animel():\n",
    "    \n",
    "    def sayHello(self):\n",
    "        pass\n",
    "        \n",
    "class Dog(Animel):\n",
    "    def sayHello(self):\n",
    "        print(\"闻下对方的味道\")\n",
    "\n",
    "class Person(Animel):\n",
    "    def sayHello(self):\n",
    "        print(\"Kiss me\")\n",
    "\n",
    "d = Dog()\n",
    "d.sayHello()\n",
    "\n",
    "p = Person()\n",
    "p.sayHello()"
   ]
  },
  {
   "cell_type": "code",
   "execution_count": 6,
   "metadata": {},
   "outputs": [],
   "source": [
    "# 抽样类的实现\n",
    "\n",
    "import abc\n",
    "\n",
    "# 声明一个类并且制定当前类的元类\n",
    "class Human(metaclass=abc.ABCMeta):\n",
    "    \n",
    "    # 定义一个抽象方法\n",
    "    @abc.abstractmethod\n",
    "    def smoking(self):\n",
    "        pass\n",
    "    \n",
    "    # 定义类抽象方法\n",
    "    @abc.abstractclassmethod\n",
    "    def drink(cls):\n",
    "        pass\n",
    "    \n",
    "    # 定义静态抽象方法\n",
    "    @abc.abstractstaticmethod\n",
    "    def play():\n",
    "        pass\n",
    "    def sleep(self):\n",
    "        print(\"Sleeping\")\n"
   ]
  },
  {
   "cell_type": "code",
   "execution_count": 10,
   "metadata": {},
   "outputs": [
    {
     "name": "stdout",
     "output_type": "stream",
     "text": [
      "yueyue你好，来一发吗？\nyueyue你好，来一发吗？\nsaying\nsaying\n"
     ]
    }
   ],
   "source": [
    "# 函数名可以当变量使用\n",
    "def sayHello(name):\n",
    "    print(\"{0}你好，来一发吗？\".format(name))\n",
    "sayHello(\"yueyue\")\n",
    "\n",
    "Liumang = sayHello\n",
    "\n",
    "Liumang(\"yueyue\")\n",
    "\n",
    "#  自己组装一个类\n",
    "\n",
    "class A():\n",
    "    pass\n",
    "    \n",
    "def say(self):\n",
    "    print(\"saying\")\n",
    "\n",
    "class B():\n",
    "    def say(self):\n",
    "        print(\"saying\")\n",
    "        \n",
    "say(9)\n",
    "\n",
    "A.say = say\n",
    "\n",
    "a = A()\n",
    "a.say()"
   ]
  },
  {
   "cell_type": "code",
   "execution_count": 12,
   "metadata": {},
   "outputs": [
    {
     "name": "stdout",
     "output_type": "stream",
     "text": [
      "saying\n"
     ]
    }
   ],
   "source": [
    "# 组装例子2\n",
    "from types import MethodType\n",
    "\n",
    "class A():\n",
    "    pass\n",
    "    \n",
    "def say(self):\n",
    "    print(\"saying\")\n",
    "\n",
    "a = A()\n",
    "a.say = MethodType(say,A)\n",
    "a.say()"
   ]
  },
  {
   "cell_type": "code",
   "execution_count": 14,
   "metadata": {},
   "outputs": [
    {
     "name": "stdout",
     "output_type": "stream",
     "text": [
      "Help on class method in module builtins:\n\nclass method(object)\n |  method(function, instance)\n |  \n |  Create a bound instance method object.\n |  \n |  Methods defined here:\n |  \n |  __call__(self, /, *args, **kwargs)\n |      Call self as a function.\n |  \n |  __delattr__(self, name, /)\n |      Implement delattr(self, name).\n |  \n |  __eq__(self, value, /)\n |      Return self==value.\n |  \n |  __ge__(self, value, /)\n |      Return self>=value.\n |  \n |  __get__(self, instance, owner, /)\n |      Return an attribute of instance, which is of type owner.\n |  \n |  __getattribute__(self, name, /)\n |      Return getattr(self, name).\n |  \n |  __gt__(self, value, /)\n |      Return self>value.\n |  \n |  __hash__(self, /)\n |      Return hash(self).\n |  \n |  __le__(self, value, /)\n |      Return self<=value.\n |  \n |  __lt__(self, value, /)\n |      Return self<value.\n |  \n |  __ne__(self, value, /)\n |      Return self!=value.\n |  \n |  __new__(*args, **kwargs) from builtins.type\n |      Create and return a new object.  See help(type) for accurate signature.\n |  \n |  __reduce__(...)\n |      helper for pickle\n |  \n |  __repr__(self, /)\n |      Return repr(self).\n |  \n |  __setattr__(self, name, value, /)\n |      Implement setattr(self, name, value).\n |  \n |  ----------------------------------------------------------------------\n |  Data descriptors defined here:\n |  \n |  __func__\n |      the function (or other callable) implementing a method\n |  \n |  __self__\n |      the instance to which a method is bound\n\n"
     ]
    }
   ],
   "source": [
    "help(MethodType)"
   ]
  },
  {
   "cell_type": "code",
   "execution_count": 19,
   "metadata": {},
   "outputs": [
    {
     "name": "stdout",
     "output_type": "stream",
     "text": [
      "Ssying......\nTalking......\n"
     ]
    }
   ],
   "source": [
    "# 利用type造一个类\n",
    "\n",
    "# 先定义类应该具有的成员函数\n",
    "def say(self):\n",
    "    print(\"Ssying......\")\n",
    "    \n",
    "def talk(self):\n",
    "    print(\"Talking......\")\n",
    "    \n",
    "# 用type来创建一个类\n",
    "A = type(\"AName\",(object, ),{\"class_say\":say, \"class_talk\":talk})\n",
    "\n",
    "# 然后可以像正常访问一样使用类\n",
    "a = A()\n",
    "dir(a)\n",
    "a.class_say()\n",
    "a.class_talk()\n"
   ]
  },
  {
   "cell_type": "code",
   "execution_count": 21,
   "metadata": {},
   "outputs": [
    {
     "name": "stdout",
     "output_type": "stream",
     "text": [
      "哈哈，我是元类啊\n"
     ]
    }
   ],
   "source": [
    "# 元类演示\n",
    "\n",
    "# 元类写法是固定的，它必须继承自type\n",
    "# 元类一般命名以MetaClass结尾\n",
    "class TulingMetaClass(type):\n",
    "    # 注意以下写法\n",
    "    def __new__(cls,name, bases, attrs):\n",
    "        # 自己的业务处理\n",
    "        print(\"哈哈，我是元类啊\")\n",
    "        attrs['id'] = '00000'\n",
    "        attrs['addr'] = \"北京\"\n",
    "        return type.__new__(cls, name, bases, attrs)\n",
    "    \n",
    "# 元类定义完就可以使用，注意写法\n",
    "class Teacher(object, metaclass = TulingMetaClass):\n",
    "    pass\n",
    "\n",
    "t = Teacher()\n",
    "\n",
    "t.id\n",
    "    "
   ]
  },
  {
   "cell_type": "code",
   "execution_count": null,
   "metadata": {},
   "outputs": [],
   "source": []
  }
 ],
 "metadata": {
  "kernelspec": {
   "display_name": "Python 2",
   "language": "python",
   "name": "python2"
  },
  "language_info": {
   "codemirror_mode": {
    "name": "ipython",
    "version": 2
   },
   "file_extension": ".py",
   "mimetype": "text/x-python",
   "name": "python",
   "nbconvert_exporter": "python",
   "pygments_lexer": "ipython2",
   "version": "2.7.6"
  }
 },
 "nbformat": 4,
 "nbformat_minor": 0
}
